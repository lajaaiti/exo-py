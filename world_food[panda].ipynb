{
 "cells": [
  {
   "cell_type": "markdown",
   "metadata": {},
   "source": [
    "# Exercise 1"
   ]
  },
  {
   "cell_type": "markdown",
   "metadata": {},
   "source": [
    "### Step 1. Go to https://www.kaggle.com/openfoodfacts/world-food-facts/data"
   ]
  },
  {
   "cell_type": "markdown",
   "metadata": {},
   "source": [
    "### Step 2. Download the dataset to your computer and unzip it."
   ]
  },
  {
   "cell_type": "markdown",
   "metadata": {},
   "source": [
    "### Step 3. Use the tsv file and assign it to a dataframe called food"
   ]
  },
  {
   "cell_type": "code",
   "execution_count": 4,
   "metadata": {
    "collapsed": true
   },
   "outputs": [
    {
     "name": "stderr",
     "output_type": "stream",
     "text": [
      "C:\\Users\\lajaa\\AppData\\Local\\Programs\\Python\\Python39\\lib\\site-packages\\IPython\\core\\interactiveshell.py:3457: DtypeWarning: Columns (0,3,5,19,20,24,25,26,27,28,36,37,38,39,48) have mixed types.Specify dtype option on import or set low_memory=False.\n",
      "  exec(code_obj, self.user_global_ns, self.user_ns)\n"
     ]
    },
    {
     "name": "stdout",
     "output_type": "stream",
     "text": [
      "    code                                                url  \\\n",
      "0   3087  http://world-en.openfoodfacts.org/product/0000...   \n",
      "1   4530  http://world-en.openfoodfacts.org/product/0000...   \n",
      "2   4559  http://world-en.openfoodfacts.org/product/0000...   \n",
      "3  16087  http://world-en.openfoodfacts.org/product/0000...   \n",
      "4  16094  http://world-en.openfoodfacts.org/product/0000...   \n",
      "\n",
      "                      creator   created_t      created_datetime  \\\n",
      "0  openfoodfacts-contributors  1474103866  2016-09-17T09:17:46Z   \n",
      "1             usda-ndb-import  1489069957  2017-03-09T14:32:37Z   \n",
      "2             usda-ndb-import  1489069957  2017-03-09T14:32:37Z   \n",
      "3             usda-ndb-import  1489055731  2017-03-09T10:35:31Z   \n",
      "4             usda-ndb-import  1489055653  2017-03-09T10:34:13Z   \n",
      "\n",
      "  last_modified_t last_modified_datetime                    product_name  \\\n",
      "0      1474103893   2016-09-17T09:18:13Z              Farine de blé noir   \n",
      "1      1489069957   2017-03-09T14:32:37Z  Banana Chips Sweetened (Whole)   \n",
      "2      1489069957   2017-03-09T14:32:37Z                         Peanuts   \n",
      "3      1489055731   2017-03-09T10:35:31Z          Organic Salted Nut Mix   \n",
      "4      1489055653   2017-03-09T10:34:13Z                 Organic Polenta   \n",
      "\n",
      "  generic_name quantity  ... fruits-vegetables-nuts_100g  \\\n",
      "0          NaN      1kg  ...                         NaN   \n",
      "1          NaN      NaN  ...                         NaN   \n",
      "2          NaN      NaN  ...                         NaN   \n",
      "3          NaN      NaN  ...                         NaN   \n",
      "4          NaN      NaN  ...                         NaN   \n",
      "\n",
      "  fruits-vegetables-nuts-estimate_100g collagen-meat-protein-ratio_100g  \\\n",
      "0                                  NaN                              NaN   \n",
      "1                                  NaN                              NaN   \n",
      "2                                  NaN                              NaN   \n",
      "3                                  NaN                              NaN   \n",
      "4                                  NaN                              NaN   \n",
      "\n",
      "  cocoa_100g chlorophyl_100g carbon-footprint_100g nutrition-score-fr_100g  \\\n",
      "0        NaN             NaN                   NaN                     NaN   \n",
      "1        NaN             NaN                   NaN                    14.0   \n",
      "2        NaN             NaN                   NaN                     0.0   \n",
      "3        NaN             NaN                   NaN                    12.0   \n",
      "4        NaN             NaN                   NaN                     NaN   \n",
      "\n",
      "  nutrition-score-uk_100g glycemic-index_100g water-hardness_100g  \n",
      "0                     NaN                 NaN                 NaN  \n",
      "1                    14.0                 NaN                 NaN  \n",
      "2                     0.0                 NaN                 NaN  \n",
      "3                    12.0                 NaN                 NaN  \n",
      "4                     NaN                 NaN                 NaN  \n",
      "\n",
      "[5 rows x 163 columns]\n"
     ]
    }
   ],
   "source": [
    "import pandas as pd\n",
    "import numpy as np\n",
    "import os\n",
    "\n",
    "# Load the data\n",
    "df = pd.read_csv('D:\\Desktop\\pandas\\en.openfoodfacts.org.products.tsv', sep='\\t', encoding='utf-8')\n",
    "print(df.head())\n",
    "\n",
    "\n"
   ]
  },
  {
   "cell_type": "markdown",
   "metadata": {},
   "source": [
    "### Step 4. See the first 5 entries"
   ]
  },
  {
   "cell_type": "code",
   "execution_count": null,
   "metadata": {
    "collapsed": true
   },
   "outputs": [
    {
     "name": "stdout",
     "output_type": "stream",
     "text": [
      "    code                                                url  \\\n",
      "0   3087  http://world-en.openfoodfacts.org/product/0000...   \n",
      "1   4530  http://world-en.openfoodfacts.org/product/0000...   \n",
      "2   4559  http://world-en.openfoodfacts.org/product/0000...   \n",
      "3  16087  http://world-en.openfoodfacts.org/product/0000...   \n",
      "4  16094  http://world-en.openfoodfacts.org/product/0000...   \n",
      "\n",
      "                      creator   created_t      created_datetime  \\\n",
      "0  openfoodfacts-contributors  1474103866  2016-09-17T09:17:46Z   \n",
      "1             usda-ndb-import  1489069957  2017-03-09T14:32:37Z   \n",
      "2             usda-ndb-import  1489069957  2017-03-09T14:32:37Z   \n",
      "3             usda-ndb-import  1489055731  2017-03-09T10:35:31Z   \n",
      "4             usda-ndb-import  1489055653  2017-03-09T10:34:13Z   \n",
      "\n",
      "  last_modified_t last_modified_datetime                    product_name  \\\n",
      "0      1474103893   2016-09-17T09:18:13Z              Farine de blé noir   \n",
      "1      1489069957   2017-03-09T14:32:37Z  Banana Chips Sweetened (Whole)   \n",
      "2      1489069957   2017-03-09T14:32:37Z                         Peanuts   \n",
      "3      1489055731   2017-03-09T10:35:31Z          Organic Salted Nut Mix   \n",
      "4      1489055653   2017-03-09T10:34:13Z                 Organic Polenta   \n",
      "\n",
      "  generic_name quantity packaging packaging_tags           brands  \\\n",
      "0          NaN      1kg       NaN            NaN  Ferme t'y R'nao   \n",
      "1          NaN      NaN       NaN            NaN              NaN   \n",
      "2          NaN      NaN       NaN            NaN   Torn & Glasser   \n",
      "3          NaN      NaN       NaN            NaN        Grizzlies   \n",
      "4          NaN      NaN       NaN            NaN   Bob's Red Mill   \n",
      "\n",
      "       brands_tags categories categories_tags categories_en origins  \\\n",
      "0  ferme-t-y-r-nao        NaN             NaN           NaN     NaN   \n",
      "1              NaN        NaN             NaN           NaN     NaN   \n",
      "2     torn-glasser        NaN             NaN           NaN     NaN   \n",
      "3        grizzlies        NaN             NaN           NaN     NaN   \n",
      "4   bob-s-red-mill        NaN             NaN           NaN     NaN   \n",
      "\n",
      "  origins_tags manufacturing_places manufacturing_places_tags labels  \\\n",
      "0          NaN                  NaN                       NaN    NaN   \n",
      "1          NaN                  NaN                       NaN    NaN   \n",
      "2          NaN                  NaN                       NaN    NaN   \n",
      "3          NaN                  NaN                       NaN    NaN   \n",
      "4          NaN                  NaN                       NaN    NaN   \n",
      "\n",
      "  labels_tags labels_en emb_codes emb_codes_tags first_packaging_code_geo  \\\n",
      "0         NaN       NaN       NaN            NaN                      NaN   \n",
      "1         NaN       NaN       NaN            NaN                      NaN   \n",
      "2         NaN       NaN       NaN            NaN                      NaN   \n",
      "3         NaN       NaN       NaN            NaN                      NaN   \n",
      "4         NaN       NaN       NaN            NaN                      NaN   \n",
      "\n",
      "  cities cities_tags purchase_places stores countries    countries_tags  \\\n",
      "0    NaN         NaN             NaN    NaN     en:FR         en:france   \n",
      "1    NaN         NaN             NaN    NaN        US  en:united-states   \n",
      "2    NaN         NaN             NaN    NaN        US  en:united-states   \n",
      "3    NaN         NaN             NaN    NaN        US  en:united-states   \n",
      "4    NaN         NaN             NaN    NaN        US  en:united-states   \n",
      "\n",
      "    countries_en                                   ingredients_text allergens  \\\n",
      "0         France                                                NaN       NaN   \n",
      "1  United States  Bananas, vegetable oil (coconut oil, corn oil ...       NaN   \n",
      "2  United States  Peanuts, wheat flour, sugar, rice flour, tapio...       NaN   \n",
      "3  United States  Organic hazelnuts, organic cashews, organic wa...       NaN   \n",
      "4  United States                                    Organic polenta       NaN   \n",
      "\n",
      "  allergens_en traces traces_tags traces_en     serving_size  no_nutriments  \\\n",
      "0          NaN    NaN         NaN       NaN              NaN            NaN   \n",
      "1          NaN    NaN         NaN       NaN     28 g (1 ONZ)            NaN   \n",
      "2          NaN    NaN         NaN       NaN  28 g (0.25 cup)            NaN   \n",
      "3          NaN    NaN         NaN       NaN  28 g (0.25 cup)            NaN   \n",
      "4          NaN    NaN         NaN       NaN  35 g (0.25 cup)            NaN   \n",
      "\n",
      "   additives_n                                          additives  \\\n",
      "0          NaN                                                NaN   \n",
      "1          0.0   [ bananas -> en:bananas  ]  [ vegetable-oil -...   \n",
      "2          0.0   [ peanuts -> en:peanuts  ]  [ wheat-flour -> ...   \n",
      "3          0.0   [ organic-hazelnuts -> en:organic-hazelnuts  ...   \n",
      "4          0.0   [ organic-polenta -> en:organic-polenta  ]  [...   \n",
      "\n",
      "  additives_tags additives_en  ingredients_from_palm_oil_n  \\\n",
      "0            NaN          NaN                          NaN   \n",
      "1            NaN          NaN                          0.0   \n",
      "2            NaN          NaN                          0.0   \n",
      "3            NaN          NaN                          0.0   \n",
      "4            NaN          NaN                          0.0   \n",
      "\n",
      "   ingredients_from_palm_oil ingredients_from_palm_oil_tags  \\\n",
      "0                        NaN                            NaN   \n",
      "1                        NaN                            NaN   \n",
      "2                        NaN                            NaN   \n",
      "3                        NaN                            NaN   \n",
      "4                        NaN                            NaN   \n",
      "\n",
      "   ingredients_that_may_be_from_palm_oil_n  \\\n",
      "0                                      NaN   \n",
      "1                                      0.0   \n",
      "2                                      0.0   \n",
      "3                                      0.0   \n",
      "4                                      0.0   \n",
      "\n",
      "   ingredients_that_may_be_from_palm_oil  \\\n",
      "0                                    NaN   \n",
      "1                                    NaN   \n",
      "2                                    NaN   \n",
      "3                                    NaN   \n",
      "4                                    NaN   \n",
      "\n",
      "  ingredients_that_may_be_from_palm_oil_tags  nutrition_grade_uk  \\\n",
      "0                                        NaN                 NaN   \n",
      "1                                        NaN                 NaN   \n",
      "2                                        NaN                 NaN   \n",
      "3                                        NaN                 NaN   \n",
      "4                                        NaN                 NaN   \n",
      "\n",
      "  nutrition_grade_fr pnns_groups_1 pnns_groups_2  \\\n",
      "0                NaN           NaN           NaN   \n",
      "1                  d           NaN           NaN   \n",
      "2                  b           NaN           NaN   \n",
      "3                  d           NaN           NaN   \n",
      "4                NaN           NaN           NaN   \n",
      "\n",
      "                                              states  \\\n",
      "0  en:to-be-completed, en:nutrition-facts-to-be-c...   \n",
      "1  en:to-be-completed, en:nutrition-facts-complet...   \n",
      "2  en:to-be-completed, en:nutrition-facts-complet...   \n",
      "3  en:to-be-completed, en:nutrition-facts-complet...   \n",
      "4  en:to-be-completed, en:nutrition-facts-complet...   \n",
      "\n",
      "                                         states_tags  \\\n",
      "0  en:to-be-completed,en:nutrition-facts-to-be-co...   \n",
      "1  en:to-be-completed,en:nutrition-facts-complete...   \n",
      "2  en:to-be-completed,en:nutrition-facts-complete...   \n",
      "3  en:to-be-completed,en:nutrition-facts-complete...   \n",
      "4  en:to-be-completed,en:nutrition-facts-complete...   \n",
      "\n",
      "                                           states_en main_category  \\\n",
      "0  To be completed,Nutrition facts to be complete...           NaN   \n",
      "1  To be completed,Nutrition facts completed,Ingr...           NaN   \n",
      "2  To be completed,Nutrition facts completed,Ingr...           NaN   \n",
      "3  To be completed,Nutrition facts completed,Ingr...           NaN   \n",
      "4  To be completed,Nutrition facts completed,Ingr...           NaN   \n",
      "\n",
      "  main_category_en image_url image_small_url  energy_100g  \\\n",
      "0              NaN       NaN             NaN          NaN   \n",
      "1              NaN       NaN             NaN       2243.0   \n",
      "2              NaN       NaN             NaN       1941.0   \n",
      "3              NaN       NaN             NaN       2540.0   \n",
      "4              NaN       NaN             NaN       1552.0   \n",
      "\n",
      "   energy-from-fat_100g  fat_100g  saturated-fat_100g  -butyric-acid_100g  \\\n",
      "0                   NaN       NaN                 NaN                 NaN   \n",
      "1                   NaN     28.57               28.57                 NaN   \n",
      "2                   NaN     17.86                0.00                 NaN   \n",
      "3                   NaN     57.14                5.36                 NaN   \n",
      "4                   NaN      1.43                 NaN                 NaN   \n",
      "\n",
      "   -caproic-acid_100g  -caprylic-acid_100g  -capric-acid_100g  \\\n",
      "0                 NaN                  NaN                NaN   \n",
      "1                 NaN                  NaN                NaN   \n",
      "2                 NaN                  NaN                NaN   \n",
      "3                 NaN                  NaN                NaN   \n",
      "4                 NaN                  NaN                NaN   \n",
      "\n",
      "   -lauric-acid_100g  -myristic-acid_100g  -palmitic-acid_100g  \\\n",
      "0                NaN                  NaN                  NaN   \n",
      "1                NaN                  NaN                  NaN   \n",
      "2                NaN                  NaN                  NaN   \n",
      "3                NaN                  NaN                  NaN   \n",
      "4                NaN                  NaN                  NaN   \n",
      "\n",
      "   -stearic-acid_100g  -arachidic-acid_100g  -behenic-acid_100g  \\\n",
      "0                 NaN                   NaN                 NaN   \n",
      "1                 NaN                   NaN                 NaN   \n",
      "2                 NaN                   NaN                 NaN   \n",
      "3                 NaN                   NaN                 NaN   \n",
      "4                 NaN                   NaN                 NaN   \n",
      "\n",
      "   -lignoceric-acid_100g  -cerotic-acid_100g  -montanic-acid_100g  \\\n",
      "0                    NaN                 NaN                  NaN   \n",
      "1                    NaN                 NaN                  NaN   \n",
      "2                    NaN                 NaN                  NaN   \n",
      "3                    NaN                 NaN                  NaN   \n",
      "4                    NaN                 NaN                  NaN   \n",
      "\n",
      "   -melissic-acid_100g  monounsaturated-fat_100g  polyunsaturated-fat_100g  \\\n",
      "0                  NaN                       NaN                       NaN   \n",
      "1                  NaN                       NaN                       NaN   \n",
      "2                  NaN                       NaN                       NaN   \n",
      "3                  NaN                       NaN                       NaN   \n",
      "4                  NaN                       NaN                       NaN   \n",
      "\n",
      "   omega-3-fat_100g  -alpha-linolenic-acid_100g  -eicosapentaenoic-acid_100g  \\\n",
      "0               NaN                         NaN                          NaN   \n",
      "1               NaN                         NaN                          NaN   \n",
      "2               NaN                         NaN                          NaN   \n",
      "3               NaN                         NaN                          NaN   \n",
      "4               NaN                         NaN                          NaN   \n",
      "\n",
      "   -docosahexaenoic-acid_100g  omega-6-fat_100g  -linoleic-acid_100g  \\\n",
      "0                         NaN               NaN                  NaN   \n",
      "1                         NaN               NaN                  NaN   \n",
      "2                         NaN               NaN                  NaN   \n",
      "3                         NaN               NaN                  NaN   \n",
      "4                         NaN               NaN                  NaN   \n",
      "\n",
      "   -arachidonic-acid_100g  -gamma-linolenic-acid_100g  \\\n",
      "0                     NaN                         NaN   \n",
      "1                     NaN                         NaN   \n",
      "2                     NaN                         NaN   \n",
      "3                     NaN                         NaN   \n",
      "4                     NaN                         NaN   \n",
      "\n",
      "   -dihomo-gamma-linolenic-acid_100g  omega-9-fat_100g  -oleic-acid_100g  \\\n",
      "0                                NaN               NaN               NaN   \n",
      "1                                NaN               NaN               NaN   \n",
      "2                                NaN               NaN               NaN   \n",
      "3                                NaN               NaN               NaN   \n",
      "4                                NaN               NaN               NaN   \n",
      "\n",
      "   -elaidic-acid_100g  -gondoic-acid_100g  -mead-acid_100g  -erucic-acid_100g  \\\n",
      "0                 NaN                 NaN              NaN                NaN   \n",
      "1                 NaN                 NaN              NaN                NaN   \n",
      "2                 NaN                 NaN              NaN                NaN   \n",
      "3                 NaN                 NaN              NaN                NaN   \n",
      "4                 NaN                 NaN              NaN                NaN   \n",
      "\n",
      "   -nervonic-acid_100g  trans-fat_100g  cholesterol_100g  carbohydrates_100g  \\\n",
      "0                  NaN             NaN               NaN                 NaN   \n",
      "1                  NaN             0.0             0.018               64.29   \n",
      "2                  NaN             0.0             0.000               60.71   \n",
      "3                  NaN             NaN               NaN               17.86   \n",
      "4                  NaN             NaN               NaN               77.14   \n",
      "\n",
      "   sugars_100g  -sucrose_100g  -glucose_100g  -fructose_100g  -lactose_100g  \\\n",
      "0          NaN            NaN            NaN             NaN            NaN   \n",
      "1        14.29            NaN            NaN             NaN            NaN   \n",
      "2        17.86            NaN            NaN             NaN            NaN   \n",
      "3         3.57            NaN            NaN             NaN            NaN   \n",
      "4          NaN            NaN            NaN             NaN            NaN   \n",
      "\n",
      "   -maltose_100g  -maltodextrins_100g  starch_100g  polyols_100g  fiber_100g  \\\n",
      "0            NaN                  NaN          NaN           NaN         NaN   \n",
      "1            NaN                  NaN          NaN           NaN         3.6   \n",
      "2            NaN                  NaN          NaN           NaN         7.1   \n",
      "3            NaN                  NaN          NaN           NaN         7.1   \n",
      "4            NaN                  NaN          NaN           NaN         5.7   \n",
      "\n",
      "   proteins_100g  casein_100g  serum-proteins_100g  nucleotides_100g  \\\n",
      "0            NaN          NaN                  NaN               NaN   \n",
      "1           3.57          NaN                  NaN               NaN   \n",
      "2          17.86          NaN                  NaN               NaN   \n",
      "3          17.86          NaN                  NaN               NaN   \n",
      "4           8.57          NaN                  NaN               NaN   \n",
      "\n",
      "   salt_100g  sodium_100g  alcohol_100g  vitamin-a_100g  beta-carotene_100g  \\\n",
      "0        NaN          NaN           NaN             NaN                 NaN   \n",
      "1    0.00000        0.000           NaN             0.0                 NaN   \n",
      "2    0.63500        0.250           NaN             0.0                 NaN   \n",
      "3    1.22428        0.482           NaN             NaN                 NaN   \n",
      "4        NaN          NaN           NaN             NaN                 NaN   \n",
      "\n",
      "   vitamin-d_100g  vitamin-e_100g  vitamin-k_100g  vitamin-c_100g  \\\n",
      "0             NaN             NaN             NaN             NaN   \n",
      "1             NaN             NaN             NaN          0.0214   \n",
      "2             NaN             NaN             NaN          0.0000   \n",
      "3             NaN             NaN             NaN             NaN   \n",
      "4             NaN             NaN             NaN             NaN   \n",
      "\n",
      "   vitamin-b1_100g  vitamin-b2_100g  vitamin-pp_100g  vitamin-b6_100g  \\\n",
      "0              NaN              NaN              NaN              NaN   \n",
      "1              NaN              NaN              NaN              NaN   \n",
      "2              NaN              NaN              NaN              NaN   \n",
      "3              NaN              NaN              NaN              NaN   \n",
      "4              NaN              NaN              NaN              NaN   \n",
      "\n",
      "   vitamin-b9_100g  folates_100g  vitamin-b12_100g  biotin_100g  \\\n",
      "0              NaN           NaN               NaN          NaN   \n",
      "1              NaN           NaN               NaN          NaN   \n",
      "2              NaN           NaN               NaN          NaN   \n",
      "3              NaN           NaN               NaN          NaN   \n",
      "4              NaN           NaN               NaN          NaN   \n",
      "\n",
      "   pantothenic-acid_100g  silica_100g  bicarbonate_100g  potassium_100g  \\\n",
      "0                    NaN          NaN               NaN             NaN   \n",
      "1                    NaN          NaN               NaN             NaN   \n",
      "2                    NaN          NaN               NaN             NaN   \n",
      "3                    NaN          NaN               NaN             NaN   \n",
      "4                    NaN          NaN               NaN             NaN   \n",
      "\n",
      "   chloride_100g  calcium_100g  phosphorus_100g  iron_100g  magnesium_100g  \\\n",
      "0            NaN           NaN              NaN        NaN             NaN   \n",
      "1            NaN         0.000              NaN    0.00129             NaN   \n",
      "2            NaN         0.071              NaN    0.00129             NaN   \n",
      "3            NaN         0.143              NaN    0.00514             NaN   \n",
      "4            NaN           NaN              NaN        NaN             NaN   \n",
      "\n",
      "   zinc_100g  copper_100g  manganese_100g  fluoride_100g  selenium_100g  \\\n",
      "0        NaN          NaN             NaN            NaN            NaN   \n",
      "1        NaN          NaN             NaN            NaN            NaN   \n",
      "2        NaN          NaN             NaN            NaN            NaN   \n",
      "3        NaN          NaN             NaN            NaN            NaN   \n",
      "4        NaN          NaN             NaN            NaN            NaN   \n",
      "\n",
      "   chromium_100g  molybdenum_100g  iodine_100g  caffeine_100g  taurine_100g  \\\n",
      "0            NaN              NaN          NaN            NaN           NaN   \n",
      "1            NaN              NaN          NaN            NaN           NaN   \n",
      "2            NaN              NaN          NaN            NaN           NaN   \n",
      "3            NaN              NaN          NaN            NaN           NaN   \n",
      "4            NaN              NaN          NaN            NaN           NaN   \n",
      "\n",
      "   ph_100g  fruits-vegetables-nuts_100g  fruits-vegetables-nuts-estimate_100g  \\\n",
      "0      NaN                          NaN                                   NaN   \n",
      "1      NaN                          NaN                                   NaN   \n",
      "2      NaN                          NaN                                   NaN   \n",
      "3      NaN                          NaN                                   NaN   \n",
      "4      NaN                          NaN                                   NaN   \n",
      "\n",
      "   collagen-meat-protein-ratio_100g  cocoa_100g  chlorophyl_100g  \\\n",
      "0                               NaN         NaN              NaN   \n",
      "1                               NaN         NaN              NaN   \n",
      "2                               NaN         NaN              NaN   \n",
      "3                               NaN         NaN              NaN   \n",
      "4                               NaN         NaN              NaN   \n",
      "\n",
      "   carbon-footprint_100g  nutrition-score-fr_100g  nutrition-score-uk_100g  \\\n",
      "0                    NaN                      NaN                      NaN   \n",
      "1                    NaN                     14.0                     14.0   \n",
      "2                    NaN                      0.0                      0.0   \n",
      "3                    NaN                     12.0                     12.0   \n",
      "4                    NaN                      NaN                      NaN   \n",
      "\n",
      "   glycemic-index_100g  water-hardness_100g  \n",
      "0                  NaN                  NaN  \n",
      "1                  NaN                  NaN  \n",
      "2                  NaN                  NaN  \n",
      "3                  NaN                  NaN  \n",
      "4                  NaN                  NaN  \n"
     ]
    }
   ],
   "source": [
    "#the first 5 entries of the dataframe\n",
    "print(df.head())\n",
    "\n",
    "\n",
    "\n"
   ]
  },
  {
   "cell_type": "markdown",
   "metadata": {},
   "source": [
    "### Step 5. What is the number of observations in the dataset?"
   ]
  },
  {
   "cell_type": "code",
   "execution_count": 5,
   "metadata": {
    "collapsed": true
   },
   "outputs": [
    {
     "data": {
      "text/plain": [
       "(356027, 163)"
      ]
     },
     "execution_count": 5,
     "metadata": {},
     "output_type": "execute_result"
    }
   ],
   "source": [
    "#number of observations in the dataset\n",
    "df.shape"
   ]
  },
  {
   "cell_type": "markdown",
   "metadata": {},
   "source": [
    "### Step 6. What is the number of columns in the dataset?"
   ]
  },
  {
   "cell_type": "code",
   "execution_count": 18,
   "metadata": {
    "collapsed": true
   },
   "outputs": [
    {
     "data": {
      "text/plain": [
       "163"
      ]
     },
     "execution_count": 18,
     "metadata": {},
     "output_type": "execute_result"
    }
   ],
   "source": [
    "#number of columns in the dataset\n",
    "df.shape[1]"
   ]
  },
  {
   "cell_type": "markdown",
   "metadata": {},
   "source": [
    "### Step 7. Print the name of all the columns."
   ]
  },
  {
   "cell_type": "code",
   "execution_count": 19,
   "metadata": {
    "collapsed": true
   },
   "outputs": [
    {
     "name": "stdout",
     "output_type": "stream",
     "text": [
      "Index(['code', 'url', 'creator', 'created_t', 'created_datetime',\n",
      "       'last_modified_t', 'last_modified_datetime', 'product_name',\n",
      "       'generic_name', 'quantity',\n",
      "       ...\n",
      "       'fruits-vegetables-nuts_100g', 'fruits-vegetables-nuts-estimate_100g',\n",
      "       'collagen-meat-protein-ratio_100g', 'cocoa_100g', 'chlorophyl_100g',\n",
      "       'carbon-footprint_100g', 'nutrition-score-fr_100g',\n",
      "       'nutrition-score-uk_100g', 'glycemic-index_100g',\n",
      "       'water-hardness_100g'],\n",
      "      dtype='object', length=163)\n"
     ]
    }
   ],
   "source": [
    "#print yhe name of all columns\n",
    "print(df.columns)"
   ]
  },
  {
   "cell_type": "markdown",
   "metadata": {},
   "source": [
    "### Step 8. What is the name of 105th column?"
   ]
  },
  {
   "cell_type": "code",
   "execution_count": 20,
   "metadata": {
    "collapsed": true
   },
   "outputs": [
    {
     "name": "stdout",
     "output_type": "stream",
     "text": [
      "-glucose_100g\n"
     ]
    }
   ],
   "source": [
    "# name of 105th columns\n",
    "print(df.columns[104])"
   ]
  },
  {
   "cell_type": "markdown",
   "metadata": {},
   "source": [
    "### Step 9. What is the type of the observations of the 105th column?"
   ]
  },
  {
   "cell_type": "code",
   "execution_count": 21,
   "metadata": {
    "collapsed": true
   },
   "outputs": [
    {
     "name": "stdout",
     "output_type": "stream",
     "text": [
      "float64\n"
     ]
    }
   ],
   "source": [
    "#type of the observations of the 105th column\n",
    "print(df.dtypes[104])"
   ]
  },
  {
   "cell_type": "markdown",
   "metadata": {},
   "source": [
    "### Step 10. How is the dataset indexed?"
   ]
  },
  {
   "cell_type": "code",
   "execution_count": 22,
   "metadata": {
    "collapsed": true
   },
   "outputs": [
    {
     "name": "stdout",
     "output_type": "stream",
     "text": [
      "RangeIndex(start=0, stop=356027, step=1)\n"
     ]
    }
   ],
   "source": [
    "#dataset indexed\n",
    "print(df.index)"
   ]
  },
  {
   "cell_type": "markdown",
   "metadata": {},
   "source": [
    "### Step 11. What is the product name of the 19th observation?"
   ]
  },
  {
   "cell_type": "code",
   "execution_count": 23,
   "metadata": {
    "collapsed": true
   },
   "outputs": [
    {
     "name": "stdout",
     "output_type": "stream",
     "text": [
      "Lotus Organic Brown Jasmine Rice\n"
     ]
    }
   ],
   "source": [
    "#product name of the 19th observation\n",
    "print(df.product_name[18])"
   ]
  }
 ],
 "metadata": {
  "anaconda-cloud": {},
  "interpreter": {
   "hash": "b7d63767994f37dfa86e26829ddb127347db566fbcb91120cb86aef8ecfa4d78"
  },
  "kernelspec": {
   "display_name": "Python [default]",
   "language": "python",
   "name": "python3"
  },
  "language_info": {
   "codemirror_mode": {
    "name": "ipython",
    "version": 3
   },
   "file_extension": ".py",
   "mimetype": "text/x-python",
   "name": "python",
   "nbconvert_exporter": "python",
   "pygments_lexer": "ipython3",
   "version": "3.9.5"
  }
 },
 "nbformat": 4,
 "nbformat_minor": 0
}
